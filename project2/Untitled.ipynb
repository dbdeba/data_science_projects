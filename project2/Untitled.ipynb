{
 "cells": [
  {
   "cell_type": "code",
   "execution_count": 1,
   "id": "4304a09d-90c7-4918-8132-a405f78ca750",
   "metadata": {},
   "outputs": [
    {
     "data": {
      "text/plain": [
       "0       29.0000\n",
       "1        0.9167\n",
       "2        2.0000\n",
       "3       30.0000\n",
       "4       25.0000\n",
       "         ...   \n",
       "1304    14.5000\n",
       "1305        NaN\n",
       "1306    26.5000\n",
       "1307    27.0000\n",
       "1308    29.0000\n",
       "Name: age, Length: 1309, dtype: float64"
      ]
     },
     "execution_count": 1,
     "metadata": {},
     "output_type": "execute_result"
    }
   ],
   "source": [
    "import pandas as pd\n",
    "import seaborn as sns\n",
    "import matplotlib.pyplot as plt\n",
    "import numpy as np\n",
    "\n",
    "df = pd.read_csv(\"http://analityk.edu.pl/wp-content/uploads/2020/02/titanic.csv\")\n",
    "df = df.drop(['sibsp','ticket','fare','boat','body','cabin'], axis=1)\n",
    "# print(df[df.duplicated()==True])\n",
    "# print(df.isnull().sum())\n",
    "\n",
    "# sns.set_palette(\"Set1\")\n",
    "# sns.catplot(data=df,\n",
    "#            x='survived',\n",
    "#            kind='count')\n",
    "# plt.show()\n",
    "#\n",
    "# sns.catplot(data=df,\n",
    "#            x='pclass',\n",
    "#            kind = 'count',\n",
    "#            hue= 'survived')\n",
    "# plt.show()\n",
    "\n",
    "# sns.distplot(df[df['age'].notnull() & (df['survived']==1)]['age'],\n",
    "#              kde_kws={\"label\": \"Survived\"},\n",
    "#              bins=10)\n",
    "# sns.distplot(df[df['age'].notnull() & (df['survived']==0)]['age'],\n",
    "#              kde_kws={\"label\": \"Not Survived\"},\n",
    "#              bins=10)\n",
    "# plt.show()\n",
    "\n",
    "df[\"age\"]"
   ]
  },
  {
   "cell_type": "code",
   "execution_count": null,
   "id": "0dc3bf43-0b9a-4e51-9898-9d8205d9ce3d",
   "metadata": {},
   "outputs": [],
   "source": []
  }
 ],
 "metadata": {
  "kernelspec": {
   "display_name": "Python 3 (ipykernel)",
   "language": "python",
   "name": "python3"
  },
  "language_info": {
   "codemirror_mode": {
    "name": "ipython",
    "version": 3
   },
   "file_extension": ".py",
   "mimetype": "text/x-python",
   "name": "python",
   "nbconvert_exporter": "python",
   "pygments_lexer": "ipython3",
   "version": "3.11.1"
  }
 },
 "nbformat": 4,
 "nbformat_minor": 5
}
